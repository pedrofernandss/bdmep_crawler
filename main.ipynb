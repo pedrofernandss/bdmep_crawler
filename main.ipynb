{
 "cells": [
  {
   "cell_type": "code",
   "execution_count": null,
   "id": "b68b62d8",
   "metadata": {},
   "outputs": [],
   "source": [
    "import os\n",
    "import time\n",
    "from dotenv import load_dotenv\n",
    "from bs4 import BeautifulSoup\n",
    "from selenium import webdriver\n",
    "from selenium.webdriver.chrome.options import Options\n",
    "from webdriver_manager.chrome import ChromeDriverManager\n",
    "from selenium.webdriver.chrome.service import Service\n",
    "from selenium.webdriver.common.by import By\n",
    "from IPython.display import display, clear_output\n",
    "from datetime import datetime\n",
    "from selenium.webdriver.common.keys import Keys\n",
    "import time\n",
    "from selenium.webdriver.support.ui import WebDriverWait\n",
    "from selenium.webdriver.support import expected_conditions as EC"
   ]
  },
  {
   "cell_type": "code",
   "execution_count": null,
   "id": "83894f27",
   "metadata": {},
   "outputs": [],
   "source": [
    "load_dotenv()\n",
    "\n",
    "def init_webdriver(timeout):\n",
    "    chrome_options = Options()\n",
    "    chrome_options.add_experimental_option(\"prefs\", {\"profile.default_content_setting_values.notifications\": 2})\n",
    "    chrome_service = Service(ChromeDriverManager().install())\n",
    "    chrome_driver = webdriver.Chrome(service=chrome_service, options=chrome_options)\n",
    "    chrome_driver.implicitly_wait(timeout)\n",
    "    return chrome_driver"
   ]
  },
  {
   "cell_type": "code",
   "execution_count": null,
   "id": "5e9df3a3",
   "metadata": {},
   "outputs": [],
   "source": [
    "def get_page(_driver, url):\n",
    "    _driver.get(url)\n",
    "    clear_output(wait=True)  # Limpa a saída da célula do Jupyter para não sobrecarregar com muitas mensagens\n",
    "    display(f\"Abrindo a página: {url}\")\n",
    "    time.sleep(5)  # Um tempo de espera simples, ajustável conforme necessidade\n",
    "    return BeautifulSoup(_driver.page_source, 'html.parser')"
   ]
  },
  {
   "cell_type": "code",
   "execution_count": null,
   "id": "7bbe148c",
   "metadata": {},
   "outputs": [],
   "source": [
    "\n",
    "def dbmep_login(_driver):\n",
    "    dpmep_url = os.getenv('BDMEP_URL')  # Carregue a variável de ambiente com a URL do site\n",
    "    clear_output(wait=True)  # Limpa a saída antes de cada ação\n",
    "    display(f\"Entrando na página: {dpmep_url}\")\n",
    "    get_page(_driver, dpmep_url)\n",
    "    \n",
    "    # Localiza e clica no link \"Prosseguir\"\n",
    "    _driver.find_element(By.LINK_TEXT, \"Prosseguir\").click()\n",
    "    clear_output(wait=True)  # Limpa a saída após a ação\n",
    "    display(\"Clicou no link 'Prosseguir'. Aguardar próxima ação.\")"
   ]
  },
  {
   "cell_type": "code",
   "execution_count": null,
   "id": "52024386",
   "metadata": {},
   "outputs": [],
   "source": [
    "def insert_email_and_login(_driver):\n",
    "    clear_output(wait=True)\n",
    "    display(\"Inserindo o e-mail para login...\")\n",
    "    email = os.getenv('USER_EMAIL')\n",
    "\n",
    "    # Aguarda a página ser carregada após o redirecionamento\n",
    "    time.sleep(5)  # Ajuste o tempo de espera conforme necessário\n",
    "    \n",
    "    # Localiza o campo de e-mail e preenche\n",
    "    email_field = _driver.find_element(By.CSS_SELECTOR, 'input.email')\n",
    "    email_field.send_keys(email)\n",
    "    \n",
    "    # Localiza o botão \"Prosseguir\" e clica\n",
    "    prosseguir_button = _driver.find_element(By.CSS_SELECTOR, 'a.submit.form1_proximo')\n",
    "    prosseguir_button.click()\n",
    "    \n",
    "    clear_output(wait=True)\n",
    "    display(f\"E-mail {email} inserido. Clicando em 'Prosseguir' para completar o login.\")"
   ]
  },
  {
   "cell_type": "code",
   "execution_count": null,
   "id": "27cd0268",
   "metadata": {},
   "outputs": [],
   "source": [
    "def preencher_radio_button(_driver, nome, valor):\n",
    "        radio_button = _driver.find_element(By.XPATH, f\"//input[@name='{nome}'][@value='{valor}']\")\n",
    "        radio_button.click()\n",
    "        display(f\"Selecionado: {valor} no campo {nome}\")"
   ]
  },
  {
   "cell_type": "code",
   "execution_count": null,
   "id": "3f97be28",
   "metadata": {},
   "outputs": [],
   "source": [
    "def preencher_checkbox(_driver, id_elemento, tipo=\"geral\"):\n",
    "    \"\"\"\n",
    "    Marca um checkbox clicando no label correspondente.\n",
    "    \"\"\"\n",
    "    if tipo == \"estacoes\":\n",
    "        # XPath mais específico para 'Selecionar Todas as Estações'\n",
    "        checkbox_label = _driver.find_element(By.XPATH, f\"//div[@class='box-estacoes']//label[contains(text(), 'Selecionar Todas as Estações')]//input[@id='{id_elemento}']\").find_element(By.XPATH, \"..\")\n",
    "    else:\n",
    "        # Para outros tipos de checkbox\n",
    "        checkbox_label = _driver.find_element(By.CSS_SELECTOR, f\"label.checkbox_container input[id='{id_elemento}']\").find_element(By.XPATH, \"..\")\n",
    "    \n",
    "\n",
    "    checkbox_label = _driver.find_element(By.CSS_SELECTOR, f\"label.checkbox_container input[id='{id_elemento}']\").find_element(By.XPATH, \"..\")\n",
    "    checkbox_label.click()\n",
    "    display(f\"Marcado checkbox: {id_elemento}\")"
   ]
  },
  {
   "cell_type": "code",
   "execution_count": null,
   "id": "b28d772f",
   "metadata": {},
   "outputs": [],
   "source": [
    "def preencher_data(_driver, id_elemento, data=None):\n",
    "    \"\"\"\n",
    "    Preenche um campo de data em um formulário.\n",
    "    :param _driver: O WebDriver do Selenium.\n",
    "    :param id_elemento: O ID do campo de data no formulário.\n",
    "    :param data: A data a ser preenchida no formato 'dd/mm/yyyy'. Se None, usa a data atual.\n",
    "    \"\"\"\n",
    "    # Se não for fornecida uma data, usa a data de hoje\n",
    "    if data is None:\n",
    "        data = datetime.now().strftime(\"%d/%m/%Y\")  # Formata a data de hoje\n",
    "    \n",
    "    campo_data = _driver.find_element(By.ID, id_elemento)\n",
    "    campo_data.clear()  # Limpa o campo antes de preencher\n",
    "    campo_data.send_keys(data)  # Preenche o campo com a data\n",
    "    campo_data.send_keys(Keys.TAB)  # Opcional: Envia a tecla \"Enter\" para confirmar, caso necessário\n",
    "    time.sleep(1)  # Atraso opcional para garantir que a data seja preenchida corretamente\n",
    "    display(f\"Campo de data '{id_elemento}' preenchido com: {data}\")"
   ]
  },
  {
   "cell_type": "code",
   "execution_count": null,
   "id": "96d97aa1",
   "metadata": {},
   "outputs": [],
   "source": [
    "def preencher_formulario(_driver):\n",
    "    # Campos de radio buttons\n",
    "    preencher_radio_button(_driver, \"tipo_pontuacao\", \"V\")  # Exemplo: Vírgula\n",
    "    preencher_radio_button(_driver, \"tipo_dados\", \"D\")  # Exemplo: Dados Diários\n",
    "    preencher_radio_button(_driver, \"tipo_estacao\", \"T\")  # Exemplo: Estação Automática\n",
    "    preencher_radio_button(_driver, \"abrangencia\", \"R\")  # Exemplo: País\n",
    "\n",
    "    # Campos de texto para data\n",
    "    preencher_data(_driver, \"datepickerInicio\", \"01/01/1500\")\n",
    "    preencher_data(_driver, \"datepickerFim\", \"31/12/2023\")\n",
    "\n",
    "    # Marcar checkboxes\n",
    "    preencher_checkbox(_driver, \"CO\")  # Região Centro-Oeste\n",
    "    preencher_checkbox(_driver, \"NO\")  # Região Nordeste\n",
    "    preencher_checkbox(_driver, \"SU\")  # Região Sudeste\n",
    "    preencher_checkbox(_driver, \"N\")  # Região Sudeste\n",
    "    preencher_checkbox(_driver, \"S\")  # Região Sudeste\n",
    "    \n",
    "    # Exemplo de marcar variáveis (pode ajustar conforme necessário)\n",
    "    preencher_checkbox(_driver, \"PRECIPITACAO TOTAL, DIARIO (AUT)\")\n",
    "\n",
    "    # Exemplo de seleção de \"Selecionar todas as variáveis\" (se aplicável)\n",
    "    preencher_checkbox(_driver, \"estacoes-all\", tipo=\"estacoes\")\n",
    "\n",
    "    display(\"Formulário preenchido.\")"
   ]
  },
  {
   "cell_type": "code",
   "execution_count": null,
   "id": "79ba1a82",
   "metadata": {},
   "outputs": [],
   "source": [
    "from selenium.webdriver.common.by import By\n",
    "from selenium.webdriver.common.action_chains import ActionChains\n",
    "from selenium.webdriver.support.ui import WebDriverWait\n",
    "from selenium.webdriver.support import expected_conditions as EC\n",
    "\n",
    "def clicar_botao(_driver, nome_botao):\n",
    "    \"\"\"\n",
    "    Clica no botão baseado no nome especificado.\n",
    "    \n",
    "    nome_botao: 'prosseguir' para o botão 'Prosseguir' ou 'confirmar' para o botão 'Confirmar'\n",
    "    \"\"\"\n",
    "    try:\n",
    "        # Definindo o seletor CSS baseado no nome do botão\n",
    "        if nome_botao == 'prosseguir':\n",
    "            botao = _driver.find_element(By.CSS_SELECTOR, \"a.submit.form2_proximo\")\n",
    "        elif nome_botao == 'confirmar':\n",
    "            botao = _driver.find_element(By.CSS_SELECTOR, \"a.submit.confirmacao_confirmar\")\n",
    "        else:\n",
    "            raise ValueError(f\"Nome de botão '{nome_botao}' não reconhecido.\")\n",
    "\n",
    "        # Garantir que o botão esteja clicável\n",
    "        WebDriverWait(_driver, 10).until(EC.element_to_be_clickable(botao))\n",
    "        \n",
    "        # Clicar no botão\n",
    "        botao.click()\n",
    "        display(f\"Botão '{nome_botao.capitalize()}' clicado.\")\n",
    "    \n",
    "    except Exception as e:\n",
    "        display(f\"Erro ao clicar no botão '{nome_botao.capitalize()}': {e}\")\n",
    "\n"
   ]
  },
  {
   "cell_type": "code",
   "execution_count": null,
   "id": "aa773588",
   "metadata": {},
   "outputs": [],
   "source": [
    "# Teste a automação no notebook\n",
    "driver = init_webdriver(timeout=10)\n",
    "dbmep_login(driver)\n",
    "insert_email_and_login(driver)\n",
    "preencher_formulario(driver)\n",
    "clicar_botao(driver, \"prosseguir\")\n",
    "clicar_botao(driver, \"confirmar\")\n",
    "driver.quit()"
   ]
  }
 ],
 "metadata": {
  "kernelspec": {
   "display_name": "venv",
   "language": "python",
   "name": "python3"
  },
  "language_info": {
   "codemirror_mode": {
    "name": "ipython",
    "version": 3
   },
   "file_extension": ".py",
   "mimetype": "text/x-python",
   "name": "python",
   "nbconvert_exporter": "python",
   "pygments_lexer": "ipython3",
   "version": "3.13.3"
  }
 },
 "nbformat": 4,
 "nbformat_minor": 5
}
